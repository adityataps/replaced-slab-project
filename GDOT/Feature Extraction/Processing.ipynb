{
 "cells": [
  {
   "cell_type": "code",
   "execution_count": 2,
   "id": "725a87ce-10b1-4e55-baea-2b2082b560d3",
   "metadata": {},
   "outputs": [],
   "source": [
    "import os\n",
    "import matplotlib.pyplot as plt\n",
    "import numpy as np\n",
    "import csv\n",
    "import pandas as pd\n",
    "from tqdm import tqdm\n",
    "from skimage.feature import local_binary_pattern\n",
    "from skimage.color import rgb2gray\n",
    "from skimage.filters import gaussian\n",
    "from skimage import io\n",
    "from PIL import Image\n",
    "\n",
    "%matplotlib widget"
   ]
  },
  {
   "cell_type": "code",
   "execution_count": 3,
   "id": "16bc297f-75ca-45bb-94d6-2b7252af4f5a",
   "metadata": {},
   "outputs": [],
   "source": [
    "master_df = pd.DataFrame(columns=[\"File Path\", \"y\"])\n",
    "length_df = pd.DataFrame(columns=[\"Length\", \"y\"])\n",
    "\n",
    "lbp_def = []\n",
    "lbp_ror = []\n",
    "lbp_uni = []\n",
    "lbp_nri = []\n",
    "\n",
    "lbp_def_10 = []\n",
    "lbp_ror_10 = []\n",
    "lbp_uni_10 = []\n",
    "lbp_nri_10 = []\n",
    "\n",
    "color_256 = pd.DataFrame(columns=[*list(range(256)), \"y\"])\n",
    "smoothed_256 = pd.DataFrame(columns=[*list(range(256)), \"y\"])"
   ]
  },
  {
   "cell_type": "code",
   "execution_count": 10,
   "id": "68dcd42d-16bd-4ed9-a968-3b2640cd895b",
   "metadata": {},
   "outputs": [],
   "source": [
    "def lbp_hist(lbp, n_bins=None):\n",
    "    n_bins = int(lbp.max() + 1) if n_bins is None else 10\n",
    "    return np.histogram(lbp, bins=n_bins)"
   ]
  },
  {
   "cell_type": "code",
   "execution_count": 7,
   "id": "1b3efa35-3312-4cdf-bfa3-44c1c120daa9",
   "metadata": {},
   "outputs": [
    {
     "name": "stderr",
     "output_type": "stream",
     "text": [
      "189it [01:33,  2.02it/s]\n",
      "609it [05:27,  1.86it/s]\n",
      "246it [01:37,  2.52it/s]\n"
     ]
    }
   ],
   "source": [
    "for dataset in os.listdir('../Data/'):\n",
    "    \n",
    "    if not os.path.isdir(dataset) or dataset in [\".ipynb_checkpoints\"]:\n",
    "        continue\n",
    "    \n",
    "    with open(os.path.join(dataset, \"ground-truths.csv\"), \"r\") as gt:\n",
    "        gt_r = csv.reader(gt)\n",
    "        gt_r.__next__()\n",
    "\n",
    "        \n",
    "        for slab, is_replaced in tqdm(gt_r):\n",
    "            if is_replaced == \"-1\":            # Bad slab i.e. improperly cropped slab\n",
    "                continue\n",
    "                \n",
    "            master_df = pd.concat([master_df, pd.DataFrame([[os.path.join(dataset, \"Slabs\", slab + \".png\"), int(is_replaced)]], columns=master_df.columns)])\n",
    "            \n",
    "            img = io.imread(os.path.join(dataset, \"Slabs\", f\"{slab}.png\"), as_gray=True)\n",
    "            length_df = pd.concat([length_df, pd.DataFrame([[img.shape[0], int(is_replaced)]], columns=length_df.columns)])\n",
    "            \n",
    "            smoothed_img = gaussian(img)\n",
    "            \n",
    "            lbp_img_def = local_binary_pattern(img, 8, 1, 'default')\n",
    "            lbp_img_ror = local_binary_pattern(img, 8, 1, 'ror')\n",
    "            lbp_img_uni = local_binary_pattern(img, 8, 1, 'uniform')\n",
    "            lbp_img_nri = local_binary_pattern(img, 8, 1, 'nri_uniform')\n",
    "            \n",
    "            lbp_def.append([*lbp_hist(lbp_img_def)[0], int(is_replaced)])\n",
    "            lbp_ror.append([*lbp_hist(lbp_img_ror)[0], int(is_replaced)])\n",
    "            lbp_uni.append([*lbp_hist(lbp_img_uni)[0], int(is_replaced)])\n",
    "            lbp_nri.append([*lbp_hist(lbp_img_nri)[0], int(is_replaced)])\n",
    "            \n",
    "            lbp_def_10.append([*lbp_hist(lbp_img_def, 10)[0], int(is_replaced)])\n",
    "            lbp_ror_10.append([*lbp_hist(lbp_img_ror, 10)[0], int(is_replaced)])\n",
    "            lbp_uni_10.append([*lbp_hist(lbp_img_uni, 10)[0], int(is_replaced)])\n",
    "            lbp_nri_10.append([*lbp_hist(lbp_img_nri, 10)[0], int(is_replaced)])\n",
    "            \n",
    "            color_256 = pd.concat([color_256, pd.DataFrame([[*np.histogram(img, bins=256, range=(0,1))[0], is_replaced]])])\n",
    "            smoothed_256 = pd.concat([smoothed_256, pd.DataFrame([[*np.histogram(smoothed_img, bins=256, range=(0,1))[0], is_replaced]])])"
   ]
  },
  {
   "cell_type": "code",
   "execution_count": null,
   "id": "0befc941-913c-4589-849e-4713c0cb56ac",
   "metadata": {},
   "outputs": [],
   "source": [
    "temp = pd.Series(lbp_ror.loc[0].where(lbp_ror.sum(axis=0) != 0).notnull())\n",
    "temp = temp.index[temp == True].tolist()\n",
    "temp = [int(t) for t in temp]\n",
    "lbp_ror = lbp_ror.iloc[:,temp]\n",
    "\n",
    "raw_256 = color_256.to_numpy()\n",
    "smoothed_256 = smoothed_256.to_numpy()\n",
    "\n",
    "raw_128 = [np.sum(raw_256[:, i: i + int(256 / 128)], axis=1) for i in range(0, 256, int(256 / 128))]\n",
    "raw_128 = np.array(raw_128).transpose()\n",
    "\n",
    "smoothed_128 = [np.sum(smoothed_256[:, i: i + int(256 / 128)], axis=1) for i in range(0, 256, int(256 / 128))]\n",
    "smoothed_128 = np.array(smoothed_128).transpose()\n",
    "\n",
    "raw_64 = [np.sum(raw_256[:, i: i + int(256 / 64)], axis=1) for i in range(0, 256, int(256 / 64))]\n",
    "raw_64 = np.array(raw_64).transpose()\n",
    "\n",
    "smoothed_64 = [np.sum(smoothed_256[:, i: i + int(256 / 64)], axis=1) for i in range(0, 256, int(256 / 64))]\n",
    "smoothed_64 = np.array(smoothed_64).transpose()\n",
    "\n",
    "raw_32 = [np.sum(raw_256[:, i: i + int(256 / 32)], axis=1) for i in range(0, 256, int(256 / 32))]\n",
    "raw_32 = np.array(raw_32).transpose()\n",
    "\n",
    "smoothed_32 = [np.sum(smoothed_256[:, i: i + int(256 / 32)], axis=1) for i in range(0, 256, int(256 / 32))]\n",
    "smoothed_32 = np.array(smoothed_32).transpose()"
   ]
  },
  {
   "cell_type": "code",
   "execution_count": null,
   "id": "c00342ce-4153-47cf-8003-d7664d932ee9",
   "metadata": {},
   "outputs": [],
   "source": [
    "master_df.to_csv('master_df.csv')\n",
    "length_df.to_csv(\"length_df.csv\")\n",
    "\n",
    "pd.DataFrame(lbp_def).to_csv('lbp_def_df.csv')\n",
    "pd.DataFrame(lbp_ror).to_csv('lbp_ror_df.csv')\n",
    "pd.DataFrame(lbp_uni).to_csv('lbp_uni_df.csv')\n",
    "pd.DataFrame(lbp_nri).to_csv('lbp_nri_df.csv')\n",
    "pd.DataFrame(lbp_def_10).to_csv('lbp_def_10_df.csv')\n",
    "pd.DataFrame(lbp_ror_10).to_csv('lbp_ror_10_df.csv')\n",
    "pd.DataFrame(lbp_uni_10).to_csv('lbp_uni_10_df.csv')\n",
    "pd.DataFrame(lbp_nri_10).to_csv('lbp_nri_10_df.csv')\n",
    "\n",
    "color_256.to_csv('color_256.csv')\n",
    "smoothed_256.to_csv('smoothed_256.csv')\n",
    "pd.DataFrame(raw_128).to_csv(\"color_128.csv\")\n",
    "pd.DataFrame(smoothed_128).to_csv(\"smoothed_128.csv\")\n",
    "pd.DataFrame(raw_64).to_csv('color_64.csv')\n",
    "pd.DataFrame(smoothed_64).to_csv(\"smoothed_64.csv\")\n",
    "pd.DataFrame(raw_32).to_csv(\"color_32.csv\")\n",
    "pd.DataFrame(smoothed_32).to_csv(\"smoothed_32.csv\")"
   ]
  }
 ],
 "metadata": {
  "kernelspec": {
   "display_name": "Python 3",
   "language": "python",
   "name": "python3"
  },
  "language_info": {
   "codemirror_mode": {
    "name": "ipython",
    "version": 3
   },
   "file_extension": ".py",
   "mimetype": "text/x-python",
   "name": "python",
   "nbconvert_exporter": "python",
   "pygments_lexer": "ipython3",
   "version": "3.9.1"
  }
 },
 "nbformat": 4,
 "nbformat_minor": 5
}
